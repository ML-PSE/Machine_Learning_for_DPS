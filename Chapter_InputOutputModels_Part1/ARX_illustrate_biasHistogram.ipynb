{
 "cells": [
  {
   "cell_type": "markdown",
   "metadata": {},
   "source": [
    "# Chapter: Input-Output Modeling - Part 1: \n",
    "\n",
    "\n",
    "## Topic: Fitting ARX model to a hypothetical process and estimating bias in parameter estimates"
   ]
  },
  {
   "cell_type": "code",
   "execution_count": 1,
   "metadata": {},
   "outputs": [],
   "source": [
    "# import packages \n",
    "from sippy import functionset as fset\n",
    "import matplotlib.pyplot as plt\n",
    "import control\n",
    "import numpy as np\n",
    "from sklearn.preprocessing import StandardScaler\n",
    "from sippy import system_identification as SysID\n",
    "\n",
    "# package settings\n",
    "np.random.seed(0)\n",
    "plt.rcParams.update({'font.size': 14})\n",
    "assert(control.__version__ < '0.9'), \"To avoid errors, downgrade the control package to a version < 0.9.0. See https://github.com/CPCLAB-UNIPI/SIPPY/issues/48 for details.\""
   ]
  },
  {
   "cell_type": "code",
   "execution_count": 2,
   "metadata": {},
   "outputs": [],
   "source": [
    "# define the actual deterministic system\n",
    "NUM_G = [0.7]\n",
    "DEN_G = [1, -0.7] \n",
    "sys_G = control.matlab.tf(NUM_G, DEN_G, 1)"
   ]
  },
  {
   "cell_type": "code",
   "execution_count": 3,
   "metadata": {},
   "outputs": [],
   "source": [
    "# define the stochastic system (an AR process)\n",
    "NUM_H = [1, 0] \n",
    "DEN_H = [1, -0.2]\n",
    "sys_H = control.matlab.tf(NUM_H, DEN_H, 1)"
   ]
  },
  {
   "cell_type": "code",
   "execution_count": 4,
   "metadata": {},
   "outputs": [],
   "source": [
    "# define input and get deterministic output\n",
    "Time = np.linspace(0, 999, 1000)\n",
    "[u, _, _] = fset.GBN_seq(1000, 0.1, Nmin=3)\n",
    "y_G, _, _ = control.matlab.lsim(sys_G, u, Time)"
   ]
  },
  {
   "cell_type": "code",
   "execution_count": 6,
   "metadata": {},
   "outputs": [],
   "source": [
    "# generate 500 different sets of stochastic output / disturbance with 1000 samples each with SNR = 10 \n",
    "# and add the disturbance for each set to deterministic output to obtain 500 sets of I/O data.\n",
    "# For each set fit an ARX model and get the parameter estimates\n",
    "\n",
    "y_G_var = np.var(y_G)\n",
    "white_noise_variance = [y_G_var*0.094]\n",
    "a_estimates = []\n",
    "b_estimates = []\n",
    "\n",
    "for i in range(500):\n",
    "    # generate disturbance signal\n",
    "    e = fset.white_noise_var(u.size, white_noise_variance)[0]\n",
    "    y_H, _, _ = control.matlab.lsim(sys_H, e, Time)\n",
    "    \n",
    "    # combined output of simulated system\n",
    "    y = y_G + y_H\n",
    "    \n",
    "    # center data before model fitting\n",
    "    u_scaler = StandardScaler(with_std=False) \n",
    "    u_centered = u_scaler.fit_transform(u[:,None]) \n",
    "    \n",
    "    y_scaler = StandardScaler(with_std=False) \n",
    "    y_centered = y_scaler.fit_transform(y[:,None]) \n",
    "    \n",
    "    # fit FIR model\n",
    "    ARXmodel = SysID(y_centered, u_centered, 'ARX', ARX_orders=[1,1,0])\n",
    "    \n",
    "    # get parameter estimates\n",
    "    a = ARXmodel.DENOMINATOR[0][0][1]\n",
    "    b = ARXmodel.NUMERATOR[0][0][0]\n",
    "    a_estimates.append(a)\n",
    "    b_estimates.append(b)"
   ]
  },
  {
   "cell_type": "code",
   "execution_count": 8,
   "metadata": {},
   "outputs": [
    {
     "data": {
      "image/png": "[encoded data removed]",
      "text/plain": [
       "<Figure size 432x180 with 1 Axes>"
      ]
     },
     "metadata": {
      "needs_background": "light"
     },
     "output_type": "display_data"
    },
    {
     "data": {
      "image/png": "[encoded data removed]",
      "text/plain": [
       "<Figure size 432x180 with 1 Axes>"
      ]
     },
     "metadata": {
      "needs_background": "light"
     },
     "output_type": "display_data"
    }
   ],
   "source": [
    "# generate histogram of parameter estimates\n",
    "a_mean = np.mean(a_estimates)\n",
    "b_mean = np.mean(b_estimates)\n",
    "\n",
    "plt.figure(figsize=(6,2.5))\n",
    "plt.hist(a_estimates, bins=30, histtype='barstacked', alpha=0.5)\n",
    "plt.axvline(x=a_mean, color='r', ls='--')\n",
    "plt.axvline(x=-0.7, color='g', ls='--')\n",
    "plt.grid(which='both', linestyle='--')\n",
    "plt.ylabel('Counts'), plt.title('a1')\n",
    "\n",
    "plt.figure(figsize=(6,2.5))\n",
    "plt.hist(b_estimates, bins=30, histtype='barstacked', alpha=0.5)\n",
    "plt.axvline(x=b_mean, color='r', ls='--')\n",
    "plt.axvline(x=0.7, color='g', ls='--')\n",
    "plt.grid(which='both', linestyle='--')\n",
    "plt.ylabel('Counts'), plt.title('b1')\n",
    "plt.show()"
   ]
  }
 ],
 "metadata": {
  "kernelspec": {
   "display_name": "Python 3 (ipykernel)",
   "language": "python",
   "name": "python3"
  },
  "language_info": {
   "codemirror_mode": {
    "name": "ipython",
    "version": 3
   },
   "file_extension": ".py",
   "mimetype": "text/x-python",
   "name": "python",
   "nbconvert_exporter": "python",
   "pygments_lexer": "ipython3",
   "version": "3.9.7"
  }
 },
 "nbformat": 4,
 "nbformat_minor": 2
}
